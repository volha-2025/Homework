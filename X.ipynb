{
 "cells": [
  {
   "cell_type": "markdown",
   "metadata": {},
   "source": [
    "# Financial Data Analytics in Python\n",
    "\n",
    "MLU - Martin Luther University Halle-Wittenberg  \n",
    "ID 223223620  \n",
    "volha.darynskaya@student.uni-halle.de"
   ]
  },
  {
   "cell_type": "markdown",
   "metadata": {},
   "source": [
    "# VD Management: IDEA\n",
    "\n",
    "The initial idea of VD Management is to bring profit to investors who are committed to green innovation, digital transformation, and startup ecosystems.  \n",
    "The approach combines strategic investment in two blocks—ICT, high-tech, renewable energy, and sustainable finance—\n",
    "with advanced portfolio optimization techniques tailored for growth-oriented but risk-conscious investors.  \n",
    "The company aims to align financial performance with long-term societal and ecological impact.  \n",
    "\n",
    "To support the view that investing in ICT and Green Energy offers both high potential returns and elevated risk,  \n",
    "a 10-year time series analysis has been conducted. The results provide evidence that, starting from 2017,  \n",
    "shares such as **MSFT**, **TSLA**, **AAPL**, **ASML.AS**, and **VWS.CO** have demonstrated significantly higher profitability  \n",
    "compared to the **S&P 500 index**."
   ]
  },
  {
   "cell_type": "code",
   "metadata": {},
   "source": [
    "import yfinance as yf\n",
    "import matplotlib.pyplot as plt\n",
    "import pandas as pd\n",
    "\n",
    "# Define the ticker symbols\n",
    "tickers = ['MSFT', 'TSLA', 'AAPL', 'ASML.AS', 'VWS.CO', 'SPY']\n",
    "names = {\n",
    "    'MSFT': 'Microsoft',\n",
    "    'TSLA': 'Tesla',\n",
    "    'AAPL': 'Apple',\n",
    "    'ASML.AS': 'ASML',\n",
    "    'VWS.CO': 'Vestas',\n",
    "    'SPY': 'S&P 500'\n",
    "}\n",
    "\n",
    "# Download data\n",
    "start_date = '2015-06-30'\n",
    "end_date = '2025-07-01'\n",
    "data = yf.download(tickers, start=start_date, end=end_date)['Adj Close']\n",
    "\n",
    "# Normalize prices to 100 at start\n",
    "normalized = data / data.iloc[0] * 100\n",
    "\n",
    "# Plotting\n",
    "plt.figure(figsize=(12, 6))\n",
    "for ticker in tickers:\n",
    "    plt.plot(normalized[ticker], label=names[ticker],\n",
    "             linewidth=2 if ticker == 'SPY' else 1.5,\n",
    "             color='red' if ticker == 'SPY' else None)\n",
    "\n",
    "plt.title('Stock Performance: 30.06.2015 – 01.07.2025')\n",
    "plt.xlabel('Date')\n",
    "plt.ylabel('Normalized Price (Start = 100)')\n",
    "plt.legend()\n",
    "plt.grid(True)\n",
    "plt.tight_layout()\n",
    "\n",
    "# Save and display\n",
    "plt.savefig(\"Trend_10y.png\", dpi=300)\n",
    "plt.show()"
   ]
  }
 ],
 "metadata": {
  "kernelspec": {
   "display_name": "Python 3",
   "language": "python",
   "name": "python3"
  },
  "language_info": {
   "name": "python",
   "version": "3.x"
  }
 },
 "nbformat": 4,
 "nbformat_minor": 5
}

