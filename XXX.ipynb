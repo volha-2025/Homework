Financial Data Analytics in Python
Prof. Dr. Fabian Woebbeking Assistant Professor of Financial Economics

IWH - Leibniz Institute for Economic Research MLU - Martin Luther University Halle-Wittenberg

fabian.woebbeking@iwh-halle.de

Getting started
See:

https://vectorbt.dev/api/utils/docs/
https://vectorbt.dev/getting-started/resources/
https://github.com/polakowo/vectorbt
#!pip install vectorbt  # (You might need to install vectorbt)

import vectorbt as vbt
import pandas as pd
import numpy as np
import matplotlib.pyplot as plt
We need some historical data for our backtest. For this example we will use data/TSLA.csv.

tsla_ohlc = pd.read_csv("data/TSLA.csv", index_col=0, parse_dates=True)
# Convert the timestamp column to datetime format
tsla_ohlc["timestamp"] = pd.to_datetime(tsla_ohlc["timestamp"])
# Set timestamp as index
tsla_ohlc.set_index("timestamp", inplace=True)

display(tsla_ohlc.head())
open	high	low	close	volume	trade_count	vwap
timestamp							
2023-01-03 05:00:00+00:00	118.47	118.80	104.6400	108.10	235727017.0	2540115.0	109.133537
2023-01-04 05:00:00+00:00	109.11	114.59	107.5200	113.64	183641524.0	1652357.0	111.901725
2023-01-05 05:00:00+00:00	110.51	111.75	107.1601	110.34	160906940.0	1337246.0	109.552300
2023-01-06 05:00:00+00:00	103.00	114.39	101.8100	113.06	224113076.0	2008686.0	109.418991
2023-01-09 05:00:00+00:00	118.96	123.52	117.1100	119.77	194213551.0	1740778.0	121.155910
A simple Moving Average Crossover Strategy
We construct a simple trend-following system based on two Simple Moving Averages (SMAs) of the closing price 
, each with a different window length 
.

The Simple Moving Average at time 
 with window 
 is defined as:
 

In our strategy:

The fast (short) moving average uses a smaller window 
 (e.g., 
).
The slow (long) moving average uses a larger window 
 (e.g., 
).
Typically, we have 
.

# Compute two simple moving averages: fast (20-day) and slow (50-day)
ma_fast = tsla_ohlc['close'].rolling(window=20).mean()
ma_slow = tsla_ohlc['close'].rolling(window=50).mean()

# Just some plotting to visualize the idea
fig_ma = plt.figure(figsize=(10, 4))
plt.plot(tsla_ohlc['close'], label='Close')
plt.plot(ma_fast, label=f'Fast SMA')
plt.plot(ma_slow, label=f'Slow SMA')
plt.legend()
plt.close()
display(fig_ma)

Entry and Exit Signals
We generate discrete "buy" and "sell" signals by detecting crossovers of the two SMAs:

Entry signal (go long) at time 
 when the fast SMA crosses above the slow SMA:
 

Exit signal (close position) at time 
 when the fast SMA crosses below the slow SMA:
 

# Entry when fast MA crosses above slow MA:
entries = (ma_fast > ma_slow) & (ma_fast.shift(1) <= ma_slow.shift(1))
#  Exit when fast MA crosses below slow MA:
exits = (ma_fast < ma_slow) & (ma_fast.shift(1) >= ma_slow.shift(1))
Backtest Mechanics
This is a very simple backtest using the following parameters:

Initial capital: 
Position sizing: Fully invest all available capital at each entry; liquidate the entire position at each exit
Transaction costs: A round-trip transaction fee of 
 is applied per completed trade (entry and exit)
Performance metrics: After running the backtest we can assess the strategy using vectorbt's risk and return metrics
Please note that this is just a simplified example. A very important component of a serious strategy is position sizing -- typically one would not invest all available capital into one asset. Speaking of, vectorbt is well capable to backtest strategies using multiple assets.

# Backtest via Portfolio.from_signals
pf = vbt.Portfolio.from_signals(
    tsla_ohlc['close'],
    entries,
    exits,
    init_cash=100000,
    freq='1D',
    fees=0.001
)

# 5. Inspect performance
print(pf.stats())
Start                         2023-01-03 05:00:00+00:00
End                           2025-04-28 04:00:00+00:00
Period                                581 days 00:00:00
Start Value                                    100000.0
End Value                                 138040.335626
Total Return [%]                              38.040336
Benchmark Return [%]                         164.458834
Max Gross Exposure [%]                            100.0
Total Fees Paid                              972.236252
Max Drawdown [%]                              46.446868
Max Drawdown Duration                 349 days 00:00:00
Total Trades                                          5
Total Closed Trades                                   5
Total Open Trades                                     0
Open Trade PnL                                      0.0
Win Rate [%]                                       60.0
Best Trade [%]                                44.403352
Worst Trade [%]                              -19.416074
Avg Winning Trade [%]                         26.742402
Avg Losing Trade [%]                         -16.774358
Avg Winning Trade Duration             69 days 08:00:00
Avg Losing Trade Duration              26 days 00:00:00
Profit Factor                                   2.13753
Expectancy                                  7608.067125
Sharpe Ratio                                   0.657513
Calmar Ratio                                   0.483329
Omega Ratio                                    1.153741
Sortino Ratio                                  1.051076
Name: close, dtype: object
# 6. Plot equity curve
pf.plot().show()
A comment on trade execution
The biggest enemy of all backtests is look-ahead bias. That is, you must never execute a trade based on information that became available after the time you are trading. The backtest above is not ideal, because we create signals and trade on the same information at time 
. So, the signal based on 
 is executed and evaluated on 
.

As a solution, we could execute the signal based on 
 at 
; this can be achieved by calling .shift(1) on all signals. Please note that for our daily data there is a 24-hour gap between signal generation and trade execution; this is conservative but not very realistic. Especially in shorter time intervals, it can be ideal to produce signals on 
 but trade and evaluate on 
.

Alternatively, especially for low-frequency data, one could assume that the signal is generated at a price very close to 
, while accounting for slippage.
 

In real or paper trading, one would store both the 
 as well as 
 and measure slippage continuously. This is particularly important for strategies trading large amounts, because market impact of the trade itself might create slippage. By the way, you could also explicitly provide the trade price as price=....

In the following example we assume slippage of 2 basis points (0.02%), the true value depends heavily on the market and can ultimately only be assessed though actual trading.

# Backtest
pf = vbt.Portfolio.from_signals(
    tsla_ohlc['close'], 
    entries,
    exits,
    fees=0.001,
    slippage=0.0002, # 0.02% slippage on every fill
    init_cash=100000,
    freq='1D'
)

# Compare this to the performance of the original backtest
print(pf.stats())
Start                         2023-01-03 05:00:00+00:00
End                           2025-04-28 04:00:00+00:00
Period                                581 days 00:00:00
Start Value                                    100000.0
End Value                                 137764.530847
Total Return [%]                              37.764531
Benchmark Return [%]                         164.458834
Max Gross Exposure [%]                            100.0
Total Fees Paid                              971.247027
Max Drawdown [%]                              46.511093
Max Drawdown Duration                 349 days 00:00:00
Total Trades                                          5
Total Closed Trades                                   5
Total Open Trades                                     0
Open Trade PnL                                      0.0
Win Rate [%]                                       60.0
Best Trade [%]                                44.345562
Worst Trade [%]                              -19.448342
Avg Winning Trade [%]                         26.691675
Avg Losing Trade [%]                         -16.807681
Avg Winning Trade Duration             69 days 08:00:00
Avg Losing Trade Duration              26 days 00:00:00
Profit Factor                                  2.127706
Expectancy                                  7552.906169
Sharpe Ratio                                   0.654882
Calmar Ratio                                   0.479355
Omega Ratio                                    1.153047
Sortino Ratio                                  1.046782
Name: close, dtype: object
